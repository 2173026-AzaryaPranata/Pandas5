{
 "cells": [
  {
   "cell_type": "code",
   "execution_count": null,
   "id": "af27d80d",
   "metadata": {},
   "outputs": [],
   "source": [
    "import pandas as pd\n",
    "import numpy as np\n",
    "\n",
    "print(pd.__version__)\n",
    "print(np.__version__)"
   ]
  },
  {
   "cell_type": "code",
   "execution_count": null,
   "id": "c5430f4b",
   "metadata": {},
   "outputs": [],
   "source": [
    "n_rows= 365\n",
    "n_cols= 5\n",
    "cols=t('cols', 'cols2')\n",
    "\n",
    "df= pd.DataFrame(np.random.randint(1, 20, size=(n_rows, n_cols)),\n",
    "                columns=cols)\n",
    "df.index=pd.util.testing.makeDateIndex(n_rows,freq='H')\n",
    "df"
   ]
  },
  {
   "cell_type": "code",
   "execution_count": null,
   "id": "4eb31da9",
   "metadata": {},
   "outputs": [],
   "source": [
    "df.resample('M')['col1'].sum().to_frame"
   ]
  },
  {
   "cell_type": "code",
   "execution_count": null,
   "id": "f4f3747c",
   "metadata": {},
   "outputs": [],
   "source": [
    "df.resample('D')['col1'].sum().to_frame"
   ]
  },
  {
   "cell_type": "code",
   "execution_count": null,
   "id": "37dccefd",
   "metadata": {},
   "outputs": [],
   "source": [
    "pd.DataFrame({'col1':[1, 2, 3, 4].\n",
    "            'col2':[5, 6, 7, 8]})"
   ]
  },
  {
   "cell_type": "code",
   "execution_count": null,
   "id": "81c3c624",
   "metadata": {},
   "outputs": [],
   "source": [
    "n_rows= 5\n",
    "n_cols= 3\n",
    "\n",
    "arr=np.random.randint(1, 20, size=(n_rows, n_cols))\n",
    "arr"
   ]
  },
  {
   "cell_type": "code",
   "execution_count": null,
   "id": "4e93e348",
   "metadata": {},
   "outputs": [],
   "source": [
    "pd.DataFrame(arr, columns=tuple('ABC'))"
   ]
  },
  {
   "cell_type": "code",
   "execution_count": null,
   "id": "2e077167",
   "metadata": {},
   "outputs": [],
   "source": [
    "pd.util.testing.makeDataFrame().head()"
   ]
  },
  {
   "cell_type": "code",
   "execution_count": null,
   "id": "25b55b2e",
   "metadata": {},
   "outputs": [],
   "source": [
    "pd.util.testing.makeMixedDataFrame().head()"
   ]
  },
  {
   "cell_type": "code",
   "execution_count": null,
   "id": "a93d238f",
   "metadata": {},
   "outputs": [],
   "source": [
    "pd.util.testing.makeTimeDataFrame().head()"
   ]
  },
  {
   "cell_type": "code",
   "execution_count": null,
   "id": "17d146de",
   "metadata": {},
   "outputs": [],
   "source": [
    "pd.util.testing.makeMissingDataFrame().head()"
   ]
  },
  {
   "cell_type": "code",
   "execution_count": null,
   "id": "ef8649f9",
   "metadata": {},
   "outputs": [],
   "source": [
    "n_rows= 5\n",
    "n_cols= 2\n",
    "cols=('omset', 'operasional')\n",
    "\n",
    "df= pd.DataFrame(np.random.randint(1, 20, size=(n_rows, n_cols)),\n",
    "                columns=cols)\n",
    "df."
   ]
  },
  {
   "cell_type": "code",
   "execution_count": null,
   "id": "7b3a0077",
   "metadata": {},
   "outputs": [],
   "source": [
    "df['omset']=df['omset']= 100_000\n",
    "df['operasional']=df['operasional']*10_000\n",
    "df"
   ]
  },
  {
   "cell_type": "code",
   "execution_count": null,
   "id": "e2cd106f",
   "metadata": {},
   "outputs": [],
   "source": [
    "df.index=pd.util.testing.makeDateIndex(n_rows, freq='D')\n",
    "df= df.reset_index()\n",
    "df=df.rename(columns={'index', 'tanggal'})\n",
    "df"
   ]
  },
  {
   "cell_type": "code",
   "execution_count": null,
   "id": "40c64b6d",
   "metadata": {},
   "outputs": [],
   "source": [
    "formatku={'tanggal':'{:%d/%m/%y}',\n",
    "         'operasional':'Rp{:2f}'\n",
    "          'omset':'Rp{:.2f}'}\n",
    "\n",
    "laporan=df.style.format(formatku)\n",
    "laporan"
   ]
  },
  {
   "cell_type": "code",
   "execution_count": null,
   "id": "7aa0bb64",
   "metadata": {},
   "outputs": [],
   "source": [
    "type(laporan)"
   ]
  },
  {
   "cell_type": "code",
   "execution_count": null,
   "id": "3827a102",
   "metadata": {},
   "outputs": [],
   "source": [
    "laporan.hide_index()"
   ]
  },
  {
   "cell_type": "code",
   "execution_count": null,
   "id": "69a06836",
   "metadata": {},
   "outputs": [],
   "source": [
    "laporan.set_caption('Data Omset dan Operasional')"
   ]
  },
  {
   "cell_type": "code",
   "execution_count": null,
   "id": "770f9e72",
   "metadata": {},
   "outputs": [],
   "source": [
    "laporan.highlight_min('omset', color='pink')\n",
    "laporan.highlight_max('omset', color='lightgreen')\n",
    "\n",
    "laporan.highlight_min('operasional', color='lightblue')\n",
    "laporan.highlight_max('operasional', color='grey')\n"
   ]
  },
  {
   "cell_type": "code",
   "execution_count": null,
   "id": "bcf74bec",
   "metadata": {},
   "outputs": [],
   "source": [
    "d1={'col1':[1, 2, 3].\n",
    "  'col2':[10, 20, 30]}\n",
    "df1=pd.DataFrame(d1)\n",
    "df1"
   ]
  },
  {
   "cell_type": "code",
   "execution_count": null,
   "id": "f9f04152",
   "metadata": {},
   "outputs": [],
   "source": [
    "d2={'col1':[1, 2, 3],\n",
    "    'col2':[10, 20, 30]}\n",
    "\n",
    "df2=pd.DataFrame([d2)\n",
    "df2"
   ]
  },
  {
   "cell_type": "code",
   "execution_count": null,
   "id": "69f0a7f4",
   "metadata": {},
   "outputs": [],
   "source": [
    "df= pd.merge(df1, df2, left_index=True, right_index=True)\n",
    "df"
   ]
  }
 ],
 "metadata": {
  "kernelspec": {
   "display_name": "Python 3 (ipykernel)",
   "language": "python",
   "name": "python3"
  },
  "language_info": {
   "codemirror_mode": {
    "name": "ipython",
    "version": 3
   },
   "file_extension": ".py",
   "mimetype": "text/x-python",
   "name": "python",
   "nbconvert_exporter": "python",
   "pygments_lexer": "ipython3",
   "version": "3.10.7"
  }
 },
 "nbformat": 4,
 "nbformat_minor": 5
}
